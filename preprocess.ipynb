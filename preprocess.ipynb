{
 "cells": [
  {
   "cell_type": "code",
   "execution_count": 227,
   "metadata": {},
   "outputs": [
    {
     "name": "stderr",
     "output_type": "stream",
     "text": [
      "[nltk_data] Downloading package punkt to\n",
      "[nltk_data]     C:\\Users\\20112\\AppData\\Roaming\\nltk_data...\n",
      "[nltk_data]   Package punkt is already up-to-date!\n",
      "[nltk_data] Downloading package omw to\n",
      "[nltk_data]     C:\\Users\\20112\\AppData\\Roaming\\nltk_data...\n",
      "[nltk_data]   Package omw is already up-to-date!\n",
      "[nltk_data] Downloading package wordnet to\n",
      "[nltk_data]     C:\\Users\\20112\\AppData\\Roaming\\nltk_data...\n",
      "[nltk_data]   Package wordnet is already up-to-date!\n",
      "[nltk_data] Downloading package stopwords to\n",
      "[nltk_data]     C:\\Users\\20112\\AppData\\Roaming\\nltk_data...\n",
      "[nltk_data]   Package stopwords is already up-to-date!\n"
     ]
    },
    {
     "name": "stdout",
     "output_type": "stream",
     "text": [
      "                                  review_description  rating\n",
      "0  شركه زباله و سواقين بتبرشم و مفيش حتي رقم للشك...    -1.0\n",
      "1  خدمة الدفع عن طريق الكي نت توقفت عندي اصبح فقط...     1.0\n",
      "2  تطبيق غبي و جاري حذفه ، عاملين اكواد خصم و لما...    -1.0\n",
      "3  فعلا تطبيق ممتاز بس لو فى امكانية يتيح لمستخدم...     1.0\n",
      "4  سيء جدا ، اسعار رسوم التوصيل لا تمت للواقع ب ص...    -1.0\n",
      "5  قعد عشرين سنة يدور على سائق بس اما عن توصيل ال...     0.0\n",
      "6                                         احلئ تطبيق     1.0\n",
      "7                                      رائع واو مدهش     1.0\n",
      "8  مکو بس البحرین وعمان وغیرهه بس العراق مکو یعنی...    -1.0\n",
      "9                    تطبيق جميل يستاهل الخمس نجوم👍👍👍     1.0\n",
      "['إذ', 'إذا', 'إذما', 'إذن', 'أف', 'أقل', 'أكثر', 'ألا', 'إلا', 'التي', 'الذي', 'الذين', 'اللاتي', 'اللائي', 'اللتان', 'اللتيا', 'اللتين', 'اللذان', 'اللذين', 'اللواتي', 'إلى', 'إليك', 'إليكم', 'إليكما', 'إليكن', 'أم', 'أما', 'أما', 'إما', 'أن', 'إن', 'إنا', 'أنا', 'أنت', 'أنتم', 'أنتما', 'أنتن', 'إنما', 'إنه', 'أنى', 'أنى', 'آه', 'آها', 'أو', 'أولاء', 'أولئك', 'أوه', 'آي', 'أي', 'أيها', 'إي', 'أين', 'أين', 'أينما', 'إيه', 'بخ', 'بس', 'بعد', 'بعض', 'بك', 'بكم', 'بكم', 'بكما', 'بكن', 'بل', 'بلى', 'بما', 'بماذا', 'بمن', 'بنا', 'به', 'بها', 'بهم', 'بهما', 'بهن', 'بي', 'بين', 'بيد', 'تلك', 'تلكم', 'تلكما', 'ته', 'تي', 'تين', 'تينك', 'ثم', 'ثمة', 'حاشا', 'حبذا', 'حتى', 'حيث', 'حيثما', 'حين', 'خلا', 'دون', 'ذا', 'ذات', 'ذاك', 'ذان', 'ذانك', 'ذلك', 'ذلكم', 'ذلكما', 'ذلكن', 'ذه', 'ذو', 'ذوا', 'ذواتا', 'ذواتي', 'ذي', 'ذين', 'ذينك', 'ريث', 'سوف', 'سوى', 'شتان', 'عدا', 'عسى', 'عل', 'على', 'عليك', 'عليه', 'عما', 'عن', 'عند', 'غير', 'فإذا', 'فإن', 'فلا', 'فمن', 'في', 'فيم', 'فيما', 'فيه', 'فيها', 'قد', 'كأن', 'كأنما', 'كأي', 'كأين', 'كذا', 'كذلك', 'كل', 'كلا', 'كلاهما', 'كلتا', 'كلما', 'كليكما', 'كليهما', 'كم', 'كم', 'كما', 'كي', 'كيت', 'كيف', 'كيفما', 'لا', 'لاسيما', 'لدى', 'لست', 'لستم', 'لستما', 'لستن', 'لسن', 'لسنا', 'لعل', 'لك', 'لكم', 'لكما', 'لكن', 'لكنما', 'لكي', 'لكيلا', 'لم', 'لما', 'لن', 'لنا', 'له', 'لها', 'لهم', 'لهما', 'لهن', 'لو', 'لولا', 'لوما', 'لي', 'لئن', 'ليت', 'ليس', 'ليسا', 'ليست', 'ليستا', 'ليسوا', 'ما', 'ماذا', 'متى', 'مذ', 'مع', 'مما', 'ممن', 'من', 'منه', 'منها', 'منذ', 'مه', 'مهما', 'نحن', 'نحو', 'نعم', 'ها', 'هاتان', 'هاته', 'هاتي', 'هاتين', 'هاك', 'هاهنا', 'هذا', 'هذان', 'هذه', 'هذي', 'هذين', 'هكذا', 'هل', 'هلا', 'هم', 'هما', 'هن', 'هنا', 'هناك', 'هنالك', 'هو', 'هؤلاء', 'هي', 'هيا', 'هيت', 'هيهات', 'والذي', 'والذين', 'وإذ', 'وإذا', 'وإن', 'ولا', 'ولكن', 'ولو', 'وما', 'ومن', 'وهو', 'يا', 'أبٌ', 'أخٌ', 'حمٌ', 'فو', 'أنتِ', 'يناير', 'فبراير', 'مارس', 'أبريل', 'مايو', 'يونيو', 'يوليو', 'أغسطس', 'سبتمبر', 'أكتوبر', 'نوفمبر', 'ديسمبر', 'جانفي', 'فيفري', 'مارس', 'أفريل', 'ماي', 'جوان', 'جويلية', 'أوت', 'كانون', 'شباط', 'آذار', 'نيسان', 'أيار', 'حزيران', 'تموز', 'آب', 'أيلول', 'تشرين', 'دولار', 'دينار', 'ريال', 'درهم', 'ليرة', 'جنيه', 'قرش', 'مليم', 'فلس', 'هللة', 'سنتيم', 'يورو', 'ين', 'يوان', 'شيكل', 'واحد', 'اثنان', 'ثلاثة', 'أربعة', 'خمسة', 'ستة', 'سبعة', 'ثمانية', 'تسعة', 'عشرة', 'أحد', 'اثنا', 'اثني', 'إحدى', 'ثلاث', 'أربع', 'خمس', 'ست', 'سبع', 'ثماني', 'تسع', 'عشر', 'ثمان', 'سبت', 'أحد', 'اثنين', 'ثلاثاء', 'أربعاء', 'خميس', 'جمعة', 'أول', 'ثان', 'ثاني', 'ثالث', 'رابع', 'خامس', 'سادس', 'سابع', 'ثامن', 'تاسع', 'عاشر', 'حادي', 'أ', 'ب', 'ت', 'ث', 'ج', 'ح', 'خ', 'د', 'ذ', 'ر', 'ز', 'س', 'ش', 'ص', 'ض', 'ط', 'ظ', 'ع', 'غ', 'ف', 'ق', 'ك', 'ل', 'م', 'ن', 'ه', 'و', 'ي', 'ء', 'ى', 'آ', 'ؤ', 'ئ', 'أ', 'ة', 'ألف', 'باء', 'تاء', 'ثاء', 'جيم', 'حاء', 'خاء', 'دال', 'ذال', 'راء', 'زاي', 'سين', 'شين', 'صاد', 'ضاد', 'طاء', 'ظاء', 'عين', 'غين', 'فاء', 'قاف', 'كاف', 'لام', 'ميم', 'نون', 'هاء', 'واو', 'ياء', 'همزة', 'ي', 'نا', 'ك', 'كن', 'ه', 'إياه', 'إياها', 'إياهما', 'إياهم', 'إياهن', 'إياك', 'إياكما', 'إياكم', 'إياك', 'إياكن', 'إياي', 'إيانا', 'أولالك', 'تانِ', 'تانِك', 'تِه', 'تِي', 'تَيْنِ', 'ثمّ', 'ثمّة', 'ذانِ', 'ذِه', 'ذِي', 'ذَيْنِ', 'هَؤلاء', 'هَاتانِ', 'هَاتِه', 'هَاتِي', 'هَاتَيْنِ', 'هَذا', 'هَذانِ', 'هَذِه', 'هَذِي', 'هَذَيْنِ', 'الألى', 'الألاء', 'أل', 'أنّى', 'أيّ', 'ّأيّان', 'أنّى', 'أيّ', 'ّأيّان', 'ذيت', 'كأيّ', 'كأيّن', 'بضع', 'فلان', 'وا', 'آمينَ', 'آهِ', 'آهٍ', 'آهاً', 'أُفٍّ', 'أُفٍّ', 'أفٍّ', 'أمامك', 'أمامكَ', 'أوّهْ', 'إلَيْكَ', 'إلَيْكَ', 'إليكَ', 'إليكنّ', 'إيهٍ', 'بخٍ', 'بسّ', 'بَسْ', 'بطآن', 'بَلْهَ', 'حاي', 'حَذارِ', 'حيَّ', 'حيَّ', 'دونك', 'رويدك', 'سرعان', 'شتانَ', 'شَتَّانَ', 'صهْ', 'صهٍ', 'طاق', 'طَق', 'عَدَسْ', 'كِخ', 'مكانَك', 'مكانَك', 'مكانَك', 'مكانكم', 'مكانكما', 'مكانكنّ', 'نَخْ', 'هاكَ', 'هَجْ', 'هلم', 'هيّا', 'هَيْهات', 'وا', 'واهاً', 'وراءَك', 'وُشْكَانَ', 'وَيْ', 'يفعلان', 'تفعلان', 'يفعلون', 'تفعلون', 'تفعلين', 'اتخذ', 'ألفى', 'تخذ', 'ترك', 'تعلَّم', 'جعل', 'حجا', 'حبيب', 'خال', 'حسب', 'خال', 'درى', 'رأى', 'زعم', 'صبر', 'ظنَّ', 'عدَّ', 'علم', 'غادر', 'ذهب', 'وجد', 'ورد', 'وهب', 'أسكن', 'أطعم', 'أعطى', 'رزق', 'زود', 'سقى', 'كسا', 'أخبر', 'أرى', 'أعلم', 'أنبأ', 'حدَث', 'خبَّر', 'نبَّا', 'أفعل به', 'ما أفعله', 'بئس', 'ساء', 'طالما', 'قلما', 'لات', 'لكنَّ', 'ءَ', 'أجل', 'إذاً', 'أمّا', 'إمّا', 'إنَّ', 'أنًّ', 'أى', 'إى', 'أيا', 'ب', 'ثمَّ', 'جلل', 'جير', 'رُبَّ', 'س', 'علًّ', 'ف', 'كأنّ', 'كلَّا', 'كى', 'ل', 'لات', 'لعلَّ', 'لكنَّ', 'لكنَّ', 'م', 'نَّ', 'هلّا', 'وا', 'أل', 'إلّا', 'ت', 'ك', 'لمّا', 'ن', 'ه', 'و', 'ا', 'ي', 'تجاه', 'تلقاء', 'جميع', 'حسب', 'سبحان', 'شبه', 'لعمر', 'مثل', 'معاذ', 'أبو', 'أخو', 'حمو', 'فو', 'مئة', 'مئتان', 'ثلاثمئة', 'أربعمئة', 'خمسمئة', 'ستمئة', 'سبعمئة', 'ثمنمئة', 'تسعمئة', 'مائة', 'ثلاثمائة', 'أربعمائة', 'خمسمائة', 'ستمائة', 'سبعمائة', 'ثمانمئة', 'تسعمائة', 'عشرون', 'ثلاثون', 'اربعون', 'خمسون', 'ستون', 'سبعون', 'ثمانون', 'تسعون', 'عشرين', 'ثلاثين', 'اربعين', 'خمسين', 'ستين', 'سبعين', 'ثمانين', 'تسعين', 'بضع', 'نيف', 'أجمع', 'جميع', 'عامة', 'عين', 'نفس', 'لا سيما', 'أصلا', 'أهلا', 'أيضا', 'بؤسا', 'بعدا', 'بغتة', 'تعسا', 'حقا', 'حمدا', 'خلافا', 'خاصة', 'دواليك', 'سحقا', 'سرا', 'سمعا', 'صبرا', 'صدقا', 'صراحة', 'طرا', 'عجبا', 'عيانا', 'غالبا', 'فرادى', 'فضلا', 'قاطبة', 'كثيرا', 'لبيك', 'معاذ', 'أبدا', 'إزاء', 'أصلا', 'الآن', 'أمد', 'أمس', 'آنفا', 'آناء', 'أنّى', 'أول', 'أيّان', 'تارة', 'ثمّ', 'ثمّة', 'حقا', 'صباح', 'مساء', 'ضحوة', 'عوض', 'غدا', 'غداة', 'قطّ', 'كلّما', 'لدن', 'لمّا', 'مرّة', 'قبل', 'خلف', 'أمام', 'فوق', 'تحت', 'يمين', 'شمال', 'ارتدّ', 'استحال', 'أصبح', 'أضحى', 'آض', 'أمسى', 'انقلب', 'بات', 'تبدّل', 'تحوّل', 'حار', 'رجع', 'راح', 'صار', 'ظلّ', 'عاد', 'غدا', 'كان', 'ما انفك', 'ما برح', 'مادام', 'مازال', 'مافتئ', 'ابتدأ', 'أخذ', 'اخلولق', 'أقبل', 'انبرى', 'أنشأ', 'أوشك', 'جعل', 'حرى', 'شرع', 'طفق', 'علق', 'قام', 'كرب', 'كاد', 'هبّ'] \n",
      "\n"
     ]
    }
   ],
   "source": [
    "import numpy as np\n",
    "import pandas as pd\n",
    "import os\n",
    "import glob\n",
    "import unicodedata\n",
    "import nltk\n",
    "import re\n",
    "from nltk import wordpunct_tokenize\n",
    "from nltk.corpus import stopwords\n",
    "from nltk.stem import PorterStemmer\n",
    "from nltk.stem import WordNetLemmatizer\n",
    "from collections import Counter\n",
    "import matplotlib.cm as cm\n",
    "from matplotlib import rcParams\n",
    "from nltk.tokenize import RegexpTokenizer\n",
    "import matplotlib.pyplot as plt\n",
    "import pandas\n",
    "import seaborn as sns \n",
    "import string\n",
    "from nltk.stem import WordNetLemmatizer\n",
    "from sklearn.feature_extraction.text import CountVectorizer\n",
    "import scipy.sparse as sp\n",
    "\n",
    "pd.set_option('display.max_columns', None)\n",
    "pd.set_option('display.max_rows', None)\n",
    "\n",
    "nltk.download('punkt')\n",
    "nltk.download('omw')\n",
    "nltk.download('wordnet')\n",
    "nltk.download('stopwords')\n",
    "\n",
    "review_col = \"review_description\"\n",
    "rating_col = \"rating\"\n",
    "\n",
    "\n",
    "df = pd.read_excel('train.xlsx')\n",
    "\n",
    "print(df.head(10))\n",
    "\n",
    "stopwords_list_arabic = stopwords.words('arabic')\n",
    "# stopwords_list_english = stopwords.words('english')\n",
    "print(stopwords_list_arabic,'\\n')\n"
   ]
  },
  {
   "cell_type": "code",
   "execution_count": 228,
   "metadata": {},
   "outputs": [],
   "source": [
    "def normalize_arabic(text):\n",
    "    text = re.sub(\"[إأآا]\", \"ا\", text)\n",
    "    text = re.sub(\"ى\", \"ي\", text)\n",
    "    text = re.sub(\"ة\", \"ه\", text)\n",
    "    text = re.sub(\"گ\", \"ك\", text)\n",
    "    return text\n",
    "\n",
    "def remove_repeating_char(text):\n",
    "    return re.sub(r'(.)\\1+', r'\\1', text)\n",
    "\n",
    "\n",
    "def remove_emojis(text):\n",
    "  return ''.join(c for c in text if not unicodedata.combining(c))\n",
    "\n",
    "def is_english_word(word) :\n",
    "    alpha = \"abcdefghijklmnopqrtuvwxyz\"\n",
    "    for i in word:\n",
    "        if i in alpha :\n",
    "            return True\n",
    "    return False\n",
    "\n",
    "\n",
    "def remove_punctuations(word):\n",
    "    arabic_punctuations = '''`÷×؛<>_()*&^%][ـ،/:\"؟.,'{}~¦+|!”…“–ـ'''\n",
    "    english_punctuations = string.punctuation\n",
    "    punctuations_list = arabic_punctuations + english_punctuations\n",
    "    translator = str.maketrans('', '', punctuations_list)\n",
    "    return word.translate(translator)\n",
    "\n",
    "\n",
    "def preprocess_review(sentence):\n",
    "    \n",
    "    words = wordpunct_tokenize(sentence)\n",
    "    non_english_words = [word for word in words if not is_english_word(word)]\n",
    "    cleaned_sentence = ' '.join(non_english_words)\n",
    "    \n",
    "    cleaned_sentence = remove_emojis(cleaned_sentence)\n",
    "    cleaned_sentence = normalize_arabic(cleaned_sentence)\n",
    "    cleaned_sentence = remove_repeating_char(cleaned_sentence)\n",
    "    cleaned_sentence = remove_punctuations(cleaned_sentence)\n",
    "    \n",
    "    return cleaned_sentence\n",
    "\n",
    "def preprocess_dataframe(df, review_col=review_col):\n",
    "    tokenizer = RegexpTokenizer(r'\\w+')\n",
    "    df[review_col] = df[review_col].apply(preprocess_review)\n",
    "    df[review_col] = df[review_col].apply(tokenizer.tokenize)\n",
    "    df[review_col] = df[review_col].apply(lambda x: [item for item in x if item not in stopwords_list_arabic])\n",
    "\n"
   ]
  },
  {
   "cell_type": "code",
   "execution_count": 229,
   "metadata": {},
   "outputs": [
    {
     "name": "stdout",
     "output_type": "stream",
     "text": [
      "                                   review_description  rating\n",
      "0   [شركه, زباله, سواقين, بتبرشم, مفيش, حتي, رقم, ...    -1.0\n",
      "1   [خدمه, الدفع, طريق, الكي, نت, توقفت, عندي, اصب...     1.0\n",
      "2   [تطبيق, غبي, جاري, حذفه, عاملين, اكواد, خصم, ن...    -1.0\n",
      "3   [فعلا, تطبيق, متاز, امكانيه, يتيح, لمستخدم, ال...     1.0\n",
      "4   [سيء, جدا, اسعار, رسوم, التوصيل, تمت, لواقع, صله]    -1.0\n",
      "5   [قعد, سنه, يدور, علي, سائق, اما, توصيل, الاشيا...     0.0\n",
      "6                                       [احلئ, تطبيق]     1.0\n",
      "7                                        [رائع, مدهش]     1.0\n",
      "8   [مکو, البحرین, وعمان, وغیره, العراق, مکو, یعنی...    -1.0\n",
      "9                  [تطبيق, جميل, يستاهل, الخمس, نجوم]     1.0\n",
      "10                                            [طلبات]     1.0\n",
      "11                         [الاسمر, عمار, الريق, مصر]     1.0\n",
      "12  [متاز, ومصدقه, ودقه, وسرعه, التوصيل, الرجاء, و...     1.0\n",
      "13                                  [هالبرنامج, منقذ]     1.0\n",
      "14             [مره, سريع, جاني, الطلب, انصح, بصراحه]     1.0\n",
      "15                                       [يو, ار, يو]     1.0\n",
      "16                                  [يوصل, لاي, مكان]    -1.0\n",
      "17  [سمحت, انا, سالت, كده, اذا, توصيل, لمنطقه, بشت...    -1.0\n",
      "18                      [افضل, تطبيق, علی, مر, تاريخ]     1.0\n",
      "19  [طلبت, طلبيه, ساعه, ويوم, اتصلت, عليهم, قالو, ...    -1.0\n",
      "20  [السلام, عليكم, انا, ساكن, عمان, وله, مايوصل, ...    -1.0\n",
      "21                                              [جمد]     1.0\n",
      "22  [اكبر, حراميه, يزيدون, سعر, الاكل, وياخذون, سع...    -1.0\n",
      "23  [واله, تطبيق, متاز, وانصح, انكم, تحملونه, اكل,...     1.0\n",
      "24  [الطلبات, تجي, بسرعه, انا, مجربه, كنا, مسافرين...     1.0\n",
      "25                                                 []     1.0\n",
      "26  [حلوه, حلوه, حلوه, حلوه, حلوه, حلوه, حلوه, حلو...     1.0\n",
      "27  [عملت, اكونت, جديد, مدانيش, اي, قسايم, والعروض...    -1.0\n",
      "28                                   [البرنامج, فاشل]    -1.0\n",
      "29                                    [انترنت, محدود]    -1.0\n"
     ]
    }
   ],
   "source": [
    "# print(df.head(30))\n",
    "preprocess_dataframe(df);\n",
    "print(df.head(30))\n"
   ]
  },
  {
   "cell_type": "code",
   "execution_count": 230,
   "metadata": {},
   "outputs": [
    {
     "name": "stdout",
     "output_type": "stream",
     "text": [
      "Length of 'positive' column Before: 19189\n",
      "Length of 'negative' column Before: 11340\n",
      "Length of 'neutral' column Before: 1507\n",
      "100795 total words in positive, with a vocabulary size of 17451\n"
     ]
    },
    {
     "data": {
      "image/png": "[encoded data removed]",
      "text/plain": [
       "<Figure size 1440x720 with 1 Axes>"
      ]
     },
     "metadata": {
      "needs_background": "light"
     },
     "output_type": "display_data"
    },
    {
     "name": "stdout",
     "output_type": "stream",
     "text": [
      "13881 total words in neutral, with a vocabulary size of 4919\n"
     ]
    },
    {
     "data": {
      "image/png": "[encoded data removed]",
      "text/plain": [
       "<Figure size 1440x720 with 1 Axes>"
      ]
     },
     "metadata": {
      "needs_background": "light"
     },
     "output_type": "display_data"
    },
    {
     "name": "stdout",
     "output_type": "stream",
     "text": [
      "132033 total words in negative, with a vocabulary size of 22291\n"
     ]
    },
    {
     "data": {
      "image/png": "[encoded data removed]",
      "text/plain": [
       "<Figure size 1440x720 with 1 Axes>"
      ]
     },
     "metadata": {
      "needs_background": "light"
     },
     "output_type": "display_data"
    }
   ],
   "source": [
    "pos = []\n",
    "neg = []\n",
    "neu = []\n",
    "\n",
    "df[rating_col] = df[rating_col].replace({-1: 0, 0: 1, 1: 2})\n",
    "\n",
    "for i in range(len(df[rating_col])) : \n",
    "    if df[rating_col][i] == 1:\n",
    "        neu.append(df[review_col][i])\n",
    "\n",
    "    if df[rating_col][i] == 2:\n",
    "        pos.append(df[review_col][i])\n",
    "\n",
    "    if df[rating_col][i] == 0:\n",
    "        neg.append(df[review_col][i])\n",
    "\n",
    "\n",
    "\n",
    "# Display the updated DataFrame Before\n",
    "print(f\"Length of 'positive' column Before: {len(pos)}\")\n",
    "print(f\"Length of 'negative' column Before: {len(neg)}\")\n",
    "print(f\"Length of 'neutral' column Before: {len(neu)}\")\n",
    "\n",
    "def display_stats(col,col_name):\n",
    "    all_words = []\n",
    "\n",
    "    for sentence in col :\n",
    "        for word in sentence :\n",
    "            all_words.append(word)\n",
    "\n",
    "    VOCAB = sorted(list(set(all_words)))\n",
    "\n",
    "    print(f\"%s total words in {col_name}, with a vocabulary size of %s\" % (len(all_words), len(VOCAB)))\n",
    "\n",
    "    counter = Counter(all_words)\n",
    "    counter.most_common(35)\n",
    "\n",
    "\n",
    "    counted_words = Counter(all_words)\n",
    "\n",
    "    words = []\n",
    "    counts = []\n",
    "    for letter, count in counted_words.most_common(10):\n",
    "        words.append(letter)\n",
    "        counts.append(count)\n",
    "\n",
    "    colors = cm.rainbow(np.linspace(0, 1, 20))\n",
    "    rcParams['figure.figsize'] = 20, 10\n",
    "\n",
    "    plt.title('Top words in ' + col_name)\n",
    "    plt.xlabel('Count')\n",
    "    plt.ylabel('Words')\n",
    "    plt.barh(words, counts, color=colors)\n",
    "    plt.show()\n",
    "\n",
    "\n",
    "\n",
    "for col in [(pos,\"positive\"), (neu,\"neutral\"), (neg,\"negative\")]:\n",
    "    display_stats(col[0] ,col[1] )"
   ]
  },
  {
   "cell_type": "code",
   "execution_count": 231,
   "metadata": {},
   "outputs": [
    {
     "name": "stdout",
     "output_type": "stream",
     "text": [
      "Length of 'positive' column After: 19189\n",
      "Length of 'negative' column After: 11340\n",
      "Length of 'neutral' column After: 11340\n",
      "                                   review_description  rating\n",
      "0                                         [مره, كيوت]     1.0\n",
      "1                                        [خلال, ساعه]     2.0\n",
      "2          [صراحه, انكت, تريد, اكل, اطلب, وبس, يﻷتيك]     2.0\n",
      "3                       [اعجبني, جدا, واستخدمه, اجوع]     2.0\n",
      "4   [طلبت, كيلو, كفته, محل, الصواف, ولم, يصل, وكتب...     0.0\n",
      "5      [غالي, واقل, شيء, لطلب, 30, تقدر, تلغي, الطلب]     1.0\n",
      "6                          [مش, حلو, خالص, زي, الزفت]     0.0\n",
      "7   [التطبيق, باختصار, المطاعم, الي, بتدعي, ان, ال...     1.0\n",
      "8   [شي, حلو, عندي, ملاحظه, صغيره, وقت, الوصول, لا...     2.0\n",
      "9                                       [كطكطكخطدكدك]     1.0\n",
      "10                [اصبح, سيئ, ومتعب, لايفتح, التطبيق]     0.0\n",
      "11                              [البرنامج, جدا, مفيد]     2.0\n",
      "12                                             [حلوه]     2.0\n",
      "13  [اسعار, معقوله, ومضمونه, والقائمين, عليها, متا...     2.0\n",
      "14                                              [عسل]     2.0\n",
      "15            [اناحجزت, كده, ماتصلش, بيا, سبني, ومشي]     0.0\n",
      "16                                [التطبيق, مش, شغال]     0.0\n",
      "17                                            [لعبتي]     2.0\n",
      "18                        [برنامج, ضحك, الناس, وفاشل]     0.0\n",
      "19              [روعه, جميل, جدا, شكرا, علي, التطبيق]     2.0\n"
     ]
    }
   ],
   "source": [
    "# Create new columns 'positive', 'negative', and 'neutral' based on the 'rating' column\n",
    "# Identify the two minimum lengths\n",
    "min_lengths = sorted([len(pos), len(neg), len(neu)])[:2]\n",
    "\n",
    "\n",
    "num_duplicates = max(min_lengths) - len(neu)\n",
    "duplicated_rows = df[df[rating_col] == 1].sample(n=num_duplicates, replace=True)\n",
    "df = pd.concat([df, duplicated_rows], ignore_index=True)\n",
    "\n",
    "\n",
    "# Shuffle the DataFrame\n",
    "df = df.sample(frac=1, random_state=42).reset_index(drop=True)\n",
    "\n",
    "# Display the updated DataFrame After\n",
    "print(f\"Length of 'positive' column After: {len(df[df[rating_col]== 2])}\")\n",
    "print(f\"Length of 'negative' column After: {len(df[df[rating_col] == 0])}\")\n",
    "print(f\"Length of 'neutral' column After: {len(df[df[rating_col] == 1])}\")\n",
    "\n",
    "print(df.head(20))"
   ]
  },
  {
   "cell_type": "code",
   "execution_count": null,
   "metadata": {},
   "outputs": [],
   "source": []
  }
 ],
 "metadata": {
  "kernelspec": {
   "display_name": "Python 3",
   "language": "python",
   "name": "python3"
  },
  "language_info": {
   "codemirror_mode": {
    "name": "ipython",
    "version": 3
   },
   "file_extension": ".py",
   "mimetype": "text/x-python",
   "name": "python",
   "nbconvert_exporter": "python",
   "pygments_lexer": "ipython3",
   "version": "3.9.6"
  }
 },
 "nbformat": 4,
 "nbformat_minor": 2
}
